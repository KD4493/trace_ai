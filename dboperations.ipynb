{
 "cells": [
  {
   "cell_type": "code",
   "execution_count": 1,
   "id": "60df9958",
   "metadata": {},
   "outputs": [],
   "source": [
    "import pandas as pd\n",
    "\n",
    "import pyodbc"
   ]
  },
  {
   "cell_type": "code",
   "execution_count": 49,
   "id": "dcd2fe70",
   "metadata": {},
   "outputs": [],
   "source": [
    "conn = pyodbc.connect(\"DRIVER={SQL Server};\"\n",
    "                                  \"SERVER=MIIPL_ON_KULDEE\\SQLEXPRESS;\"\n",
    "                                  \"DATABASE=SBM_Recon_data;\"\n",
    "                                  \"UID=sa;\"\n",
    "                                  \"PWD=P@ss1234;\")"
   ]
  },
  {
   "cell_type": "code",
   "execution_count": 10,
   "id": "b4e3f28a",
   "metadata": {},
   "outputs": [
    {
     "data": {
      "text/plain": [
       "<pyodbc.Cursor at 0x2a7afdc45b0>"
      ]
     },
     "execution_count": 10,
     "metadata": {},
     "output_type": "execute_result"
    }
   ],
   "source": [
    "conn.execute('select * from dbo.ML_ReversalTxns;')"
   ]
  },
  {
   "cell_type": "code",
   "execution_count": 70,
   "id": "ba9b57e0",
   "metadata": {},
   "outputs": [],
   "source": [
    "result_df = pd.read_csv('D:\\Maximus\\RECON_DISPUTE_PREDICTIONS\\dispute_predictions\\code\\Prediction_Output_File\\most_dispute_raised.csv')"
   ]
  },
  {
   "cell_type": "code",
   "execution_count": 72,
   "id": "6a1248ca",
   "metadata": {},
   "outputs": [],
   "source": [
    "result_df.drop(columns='Unnamed: 0', inplace=True)"
   ]
  },
  {
   "cell_type": "code",
   "execution_count": 82,
   "id": "3774ae38",
   "metadata": {},
   "outputs": [],
   "source": [
    "result_df.rename(columns={'index':'Most_disputed_Cards','CardNumber' : 'No_of_disputes' }, inplace=True)"
   ]
  },
  {
   "cell_type": "code",
   "execution_count": 84,
   "id": "4c852c68",
   "metadata": {},
   "outputs": [],
   "source": [
    "from sqlalchemy import create_engine\n",
    "import urllib\n",
    "import pyodbc\n",
    "\n",
    "quoted = urllib.parse.quote_plus(\"DRIVER={SQL Server};SERVER=MIIPL_ON_KULDEE\\SQLEXPRESS;DATABASE=SBM_Recon_data;UID=sa;PWD=P@ss1234;\")\n",
    "engine = create_engine('mssql+pyodbc:///?odbc_connect={}'.format(quoted))\n",
    "\n",
    "result_df.to_sql('Most_Disputed_Cards', schema='dbo', con = engine, chunksize=200, method='multi', index=False, if_exists='replace')\n"
   ]
  },
  {
   "cell_type": "code",
   "execution_count": 83,
   "id": "46f3bfc9",
   "metadata": {},
   "outputs": [
    {
     "data": {
      "text/html": [
       "<div>\n",
       "<style scoped>\n",
       "    .dataframe tbody tr th:only-of-type {\n",
       "        vertical-align: middle;\n",
       "    }\n",
       "\n",
       "    .dataframe tbody tr th {\n",
       "        vertical-align: top;\n",
       "    }\n",
       "\n",
       "    .dataframe thead th {\n",
       "        text-align: right;\n",
       "    }\n",
       "</style>\n",
       "<table border=\"1\" class=\"dataframe\">\n",
       "  <thead>\n",
       "    <tr style=\"text-align: right;\">\n",
       "      <th></th>\n",
       "      <th>Most_disputed_Cards</th>\n",
       "      <th>No_of_disputes</th>\n",
       "    </tr>\n",
       "  </thead>\n",
       "  <tbody>\n",
       "    <tr>\n",
       "      <th>0</th>\n",
       "      <td>AlKJWI5D2uH7NeLY6MTWrcvvjHvzcZfa34ZrJE3/mWaQ7f...</td>\n",
       "      <td>20</td>\n",
       "    </tr>\n",
       "    <tr>\n",
       "      <th>1</th>\n",
       "      <td>QZ16NKI+IiLaKTYpLCPBw6T0jyu51nk6yfxidIuu1x+B/z...</td>\n",
       "      <td>8</td>\n",
       "    </tr>\n",
       "    <tr>\n",
       "      <th>2</th>\n",
       "      <td>4emVbMsaZC8EoJuZ3c/Ns+NGNVRlst6QeLOkAiGmarmwf8...</td>\n",
       "      <td>6</td>\n",
       "    </tr>\n",
       "    <tr>\n",
       "      <th>3</th>\n",
       "      <td>NPXCa/xTlqm/LnIGI4zmGMez4K7DCLb2sWSiK7DkhHoO5R...</td>\n",
       "      <td>4</td>\n",
       "    </tr>\n",
       "    <tr>\n",
       "      <th>4</th>\n",
       "      <td>Nw6brDs6hOQHm3iIiQpL/hEx/1eBCTwq6z9IBKh9Qk4w4y...</td>\n",
       "      <td>4</td>\n",
       "    </tr>\n",
       "    <tr>\n",
       "      <th>5</th>\n",
       "      <td>DuGbANX1iW8IWcKHehsG9viKAa8pDm8NIXnmdPj6rGK4DW...</td>\n",
       "      <td>3</td>\n",
       "    </tr>\n",
       "  </tbody>\n",
       "</table>\n",
       "</div>"
      ],
      "text/plain": [
       "                                 Most_disputed_Cards  No_of_disputes\n",
       "0  AlKJWI5D2uH7NeLY6MTWrcvvjHvzcZfa34ZrJE3/mWaQ7f...              20\n",
       "1  QZ16NKI+IiLaKTYpLCPBw6T0jyu51nk6yfxidIuu1x+B/z...               8\n",
       "2  4emVbMsaZC8EoJuZ3c/Ns+NGNVRlst6QeLOkAiGmarmwf8...               6\n",
       "3  NPXCa/xTlqm/LnIGI4zmGMez4K7DCLb2sWSiK7DkhHoO5R...               4\n",
       "4  Nw6brDs6hOQHm3iIiQpL/hEx/1eBCTwq6z9IBKh9Qk4w4y...               4\n",
       "5  DuGbANX1iW8IWcKHehsG9viKAa8pDm8NIXnmdPj6rGK4DW...               3"
      ]
     },
     "execution_count": 83,
     "metadata": {},
     "output_type": "execute_result"
    }
   ],
   "source": [
    "result_df"
   ]
  },
  {
   "cell_type": "code",
   "execution_count": null,
   "id": "6645044c",
   "metadata": {},
   "outputs": [],
   "source": []
  },
  {
   "cell_type": "code",
   "execution_count": 42,
   "id": "b7a030f1",
   "metadata": {},
   "outputs": [],
   "source": [
    "df_1 = pd.read_sql_query('select * from dbo.MOST_Disputed_Cards;', conn)"
   ]
  },
  {
   "cell_type": "code",
   "execution_count": 43,
   "id": "873a1a55",
   "metadata": {},
   "outputs": [
    {
     "data": {
      "text/html": [
       "<div>\n",
       "<style scoped>\n",
       "    .dataframe tbody tr th:only-of-type {\n",
       "        vertical-align: middle;\n",
       "    }\n",
       "\n",
       "    .dataframe tbody tr th {\n",
       "        vertical-align: top;\n",
       "    }\n",
       "\n",
       "    .dataframe thead th {\n",
       "        text-align: right;\n",
       "    }\n",
       "</style>\n",
       "<table border=\"1\" class=\"dataframe\">\n",
       "  <thead>\n",
       "    <tr style=\"text-align: right;\">\n",
       "      <th></th>\n",
       "      <th>Card_Nuber</th>\n",
       "      <th>No_of_disputes</th>\n",
       "    </tr>\n",
       "  </thead>\n",
       "  <tbody>\n",
       "  </tbody>\n",
       "</table>\n",
       "</div>"
      ],
      "text/plain": [
       "Empty DataFrame\n",
       "Columns: [Card_Nuber, No_of_disputes]\n",
       "Index: []"
      ]
     },
     "execution_count": 43,
     "metadata": {},
     "output_type": "execute_result"
    }
   ],
   "source": [
    "df_1"
   ]
  },
  {
   "cell_type": "code",
   "execution_count": 31,
   "id": "97aeb984",
   "metadata": {},
   "outputs": [],
   "source": [
    "conn.execute('create table testing1 (t1 varchar, t2 varchar);')\n",
    "conn.close()"
   ]
  },
  {
   "cell_type": "code",
   "execution_count": 35,
   "id": "5dd12734",
   "metadata": {},
   "outputs": [
    {
     "ename": "SyntaxError",
     "evalue": "invalid syntax (Temp/ipykernel_6104/1014352191.py, line 1)",
     "output_type": "error",
     "traceback": [
      "\u001b[1;36m  File \u001b[1;32m\"C:\\Users\\KULDEE~1.GAV\\AppData\\Local\\Temp/ipykernel_6104/1014352191.py\"\u001b[1;36m, line \u001b[1;32m1\u001b[0m\n\u001b[1;33m    conn.execute('INSERT INTO testing1(t1,t2) VALUES (%s,%s)',%('thavasi','mumbai'))\u001b[0m\n\u001b[1;37m                                                              ^\u001b[0m\n\u001b[1;31mSyntaxError\u001b[0m\u001b[1;31m:\u001b[0m invalid syntax\n"
     ]
    }
   ],
   "source": [
    "conn.execute('INSERT INTO testing1(t1,t2) VALUES (%s,%s)',%('thavasi','mumbai'))"
   ]
  },
  {
   "cell_type": "code",
   "execution_count": 34,
   "id": "d96a64d1",
   "metadata": {},
   "outputs": [
    {
     "ename": "SyntaxError",
     "evalue": "invalid syntax (Temp/ipykernel_6104/4039424409.py, line 1)",
     "output_type": "error",
     "traceback": [
      "\u001b[1;36m  File \u001b[1;32m\"C:\\Users\\KULDEE~1.GAV\\AppData\\Local\\Temp/ipykernel_6104/4039424409.py\"\u001b[1;36m, line \u001b[1;32m1\u001b[0m\n\u001b[1;33m    conn.execute('insert into testing1 (t1, t2) values (%s , %d' )', %('kuldeep', 29))\u001b[0m\n\u001b[1;37m                                                                  ^\u001b[0m\n\u001b[1;31mSyntaxError\u001b[0m\u001b[1;31m:\u001b[0m invalid syntax\n"
     ]
    }
   ],
   "source": [
    "conn.execute('insert into testing1 (t1, t2) values (%s , %d' )', %('kuldeep', 29))\n",
    "conn.close()"
   ]
  },
  {
   "cell_type": "code",
   "execution_count": 14,
   "id": "989762a3",
   "metadata": {},
   "outputs": [],
   "source": [
    "conn.close()"
   ]
  },
  {
   "cell_type": "code",
   "execution_count": 6,
   "id": "3e09a07b",
   "metadata": {},
   "outputs": [],
   "source": [
    "result_df = pd.read_csv('D:\\Maximus\\RECON_DISPUTE_PREDICTIONS\\dispute_predictions\\code\\Prediction_Output_File\\most_dispute_raised.csv')"
   ]
  },
  {
   "cell_type": "code",
   "execution_count": 7,
   "id": "c604f37b",
   "metadata": {},
   "outputs": [],
   "source": [
    "try:\n",
    "    #conn.execute('DROP TABLE IF EXISTS Most_disputed_cards')\n",
    "    conn.execute('create table testing (test1 varchar, test2 integer);')\n",
    "    conn.close()\n",
    "except:\n",
    "    raise Exception"
   ]
  },
  {
   "cell_type": "code",
   "execution_count": null,
   "id": "8c186be9",
   "metadata": {},
   "outputs": [],
   "source": []
  },
  {
   "cell_type": "code",
   "execution_count": null,
   "id": "67320054",
   "metadata": {},
   "outputs": [],
   "source": []
  },
  {
   "cell_type": "code",
   "execution_count": 6,
   "id": "54a5c3a0",
   "metadata": {},
   "outputs": [],
   "source": [
    "df_1 = pd.read_sql_query('select * from dbo.ML_ReversalTxns;', conn)"
   ]
  },
  {
   "cell_type": "code",
   "execution_count": 8,
   "id": "fdf855b3",
   "metadata": {},
   "outputs": [
    {
     "data": {
      "text/plain": [
       "(504, 35)"
      ]
     },
     "execution_count": 8,
     "metadata": {},
     "output_type": "execute_result"
    }
   ],
   "source": [
    "df_1.shape"
   ]
  },
  {
   "cell_type": "code",
   "execution_count": 9,
   "id": "1dcb63d3",
   "metadata": {},
   "outputs": [
    {
     "data": {
      "text/plain": [
       "(4995, 36)"
      ]
     },
     "execution_count": 9,
     "metadata": {},
     "output_type": "execute_result"
    }
   ],
   "source": [
    "df_2.shape"
   ]
  },
  {
   "cell_type": "code",
   "execution_count": 7,
   "id": "df5e6895",
   "metadata": {},
   "outputs": [],
   "source": [
    "df_2 = pd.read_sql_query('select * from dbo.ML_UnmatchedTxns;', conn)"
   ]
  },
  {
   "cell_type": "code",
   "execution_count": 13,
   "id": "1a40c2cd",
   "metadata": {},
   "outputs": [],
   "source": [
    "df = pd.concat([df_1, df_2], axis=0)"
   ]
  },
  {
   "cell_type": "code",
   "execution_count": 14,
   "id": "99ac4663",
   "metadata": {},
   "outputs": [
    {
     "data": {
      "text/plain": [
       "(5499, 37)"
      ]
     },
     "execution_count": 14,
     "metadata": {},
     "output_type": "execute_result"
    }
   ],
   "source": [
    "df.shape"
   ]
  },
  {
   "cell_type": "code",
   "execution_count": 17,
   "id": "dbae92c9",
   "metadata": {},
   "outputs": [
    {
     "data": {
      "text/plain": [
       "2Z+DSGKUCYRZSe91G3cqmEduSdt6vUCSKDokeqh17QhWQ4rkK5Pigg==    61\n",
       "Jub7ZglrKhAxgQxh8K1c0EBk6QYHghY8M0VFTGXO0SwiRjz4td3u3A==    29\n",
       "Jub7ZglrKhAxgQxh8K1c0EBk6QYHghY8hrGiSHXIRz9La7Zb9vMk7w==    24\n",
       "Jub7ZglrKhAxgQxh8K1c0EBk6QYHghY89rAfpUZw+zD57mmXtnOF9w==    23\n",
       "Jub7ZglrKhAxgQxh8K1c0EBk6QYHghY8GH3DLLR99c1ij8CIzDCkCQ==    20\n",
       "                                                            ..\n",
       "hn/J8r6B+xhmNHC2UAOsNuVIx5X6kSik6zzauMR5bO5SBRYiFAMr5Q==     1\n",
       "Jub7ZglrKhAxgQxh8K1c0EBk6QYHghY8c+ZqH/Wzm52GaXvodokW4w==     1\n",
       "51ZoFHJQ/JUAIrFUTKGMKaofhE1hrYZCeVBq8slsugJXvy5y0fAcqg==     1\n",
       "gOP5OlUXlW3oke+W3WzBVneNtZmP5Qq6cdDw5VpC4VPIU2znOJZPvA==     1\n",
       "OtpahM84581vPdCXaZPcZMAuq8ZmIYLW/Kw3luJttqOe36FQMiqbWw==     1\n",
       "Name: CardNumber, Length: 2390, dtype: int64"
      ]
     },
     "execution_count": 17,
     "metadata": {},
     "output_type": "execute_result"
    }
   ],
   "source": [
    "df['CardNumber'].value_counts()"
   ]
  },
  {
   "cell_type": "code",
   "execution_count": 43,
   "id": "016e9656",
   "metadata": {},
   "outputs": [],
   "source": [
    "df = pd.concat(pd.read_excel('RawDataFile/SBM_ReconReports_feb.xls',sheet_name=None), ignore_index=True)"
   ]
  },
  {
   "cell_type": "code",
   "execution_count": 44,
   "id": "ccb38bb7",
   "metadata": {},
   "outputs": [
    {
     "data": {
      "text/plain": [
       "Index(['SuccessfulID', 'ClientID', 'ChannelID', 'ModeID', 'TerminalId',\n",
       "       'ReferenceNumber', 'CardNumber', 'CardType', 'TxnsValueDateTime',\n",
       "       'TxnsDateTime', 'TxnsAmount', 'ActualTxnsAmount', 'GLStatus',\n",
       "       'EJStatus', 'NWStatus', 'SWStatus', 'ReconType', 'CustAccountNo',\n",
       "       'ATMAccountNo', 'DrCrType', 'TxnsType', 'TxnsSubType', 'TxnsEntryType',\n",
       "       'TxnRemarks', 'IsSettled', 'OnSettled', 'SettledRemarks', 'SettledBy',\n",
       "       'Aging', 'IsRemoved', 'TxnsParticulars', 'CreatedBy', 'CreatedOn',\n",
       "       'ModifiedBy', 'ModifiedOn', 'Status', 'UnmatchedID', 'RapiRemarks',\n",
       "       'UnsuccessfulID'],\n",
       "      dtype='object')"
      ]
     },
     "execution_count": 44,
     "metadata": {},
     "output_type": "execute_result"
    }
   ],
   "source": [
    "df.columns"
   ]
  },
  {
   "cell_type": "code",
   "execution_count": 45,
   "id": "e65a7b6e",
   "metadata": {},
   "outputs": [],
   "source": [
    "col_dtype = dict(df.dtypes)"
   ]
  },
  {
   "cell_type": "code",
   "execution_count": 46,
   "id": "50940c2d",
   "metadata": {},
   "outputs": [],
   "source": [
    "columns = col_dtype.keys()\n",
    "dtypes = col_dtype.values()"
   ]
  },
  {
   "cell_type": "code",
   "execution_count": 47,
   "id": "42ad4fc1",
   "metadata": {},
   "outputs": [
    {
     "data": {
      "text/plain": [
       "{'SuccessfulID': dtype('float64'),\n",
       " 'ClientID': dtype('int64'),\n",
       " 'ChannelID': dtype('int64'),\n",
       " 'ModeID': dtype('int64'),\n",
       " 'TerminalId': dtype('O'),\n",
       " 'ReferenceNumber': dtype('int64'),\n",
       " 'CardNumber': dtype('O'),\n",
       " 'CardType': dtype('float64'),\n",
       " 'TxnsValueDateTime': dtype('<M8[ns]'),\n",
       " 'TxnsDateTime': dtype('<M8[ns]'),\n",
       " 'TxnsAmount': dtype('int64'),\n",
       " 'ActualTxnsAmount': dtype('int64'),\n",
       " 'GLStatus': dtype('int64'),\n",
       " 'EJStatus': dtype('int64'),\n",
       " 'NWStatus': dtype('int64'),\n",
       " 'SWStatus': dtype('int64'),\n",
       " 'ReconType': dtype('O'),\n",
       " 'CustAccountNo': dtype('O'),\n",
       " 'ATMAccountNo': dtype('float64'),\n",
       " 'DrCrType': dtype('O'),\n",
       " 'TxnsType': dtype('O'),\n",
       " 'TxnsSubType': dtype('O'),\n",
       " 'TxnsEntryType': dtype('O'),\n",
       " 'TxnRemarks': dtype('O'),\n",
       " 'IsSettled': dtype('int64'),\n",
       " 'OnSettled': dtype('<M8[ns]'),\n",
       " 'SettledRemarks': dtype('O'),\n",
       " 'SettledBy': dtype('O'),\n",
       " 'Aging': dtype('float64'),\n",
       " 'IsRemoved': dtype('int64'),\n",
       " 'TxnsParticulars': dtype('O'),\n",
       " 'CreatedBy': dtype('O'),\n",
       " 'CreatedOn': dtype('<M8[ns]'),\n",
       " 'ModifiedBy': dtype('O'),\n",
       " 'ModifiedOn': dtype('<M8[ns]'),\n",
       " 'Status': dtype('O'),\n",
       " 'UnmatchedID': dtype('float64'),\n",
       " 'RapiRemarks': dtype('float64'),\n",
       " 'UnsuccessfulID': dtype('float64')}"
      ]
     },
     "execution_count": 47,
     "metadata": {},
     "output_type": "execute_result"
    }
   ],
   "source": [
    "col_dtype"
   ]
  },
  {
   "cell_type": "code",
   "execution_count": 18,
   "id": "46abc4fd",
   "metadata": {},
   "outputs": [],
   "source": [
    "result_df = pd.read_csv('D:\\Maximus\\RECON_DISPUTE_PREDICTIONS\\dispute_predictions\\code\\Prediction_Output_File\\most_dispute_raised.csv')"
   ]
  },
  {
   "cell_type": "code",
   "execution_count": 20,
   "id": "186246ff",
   "metadata": {},
   "outputs": [],
   "source": [
    "result_df.drop(columns='Unnamed: 0', inplace=True)"
   ]
  },
  {
   "cell_type": "code",
   "execution_count": 21,
   "id": "90acf362",
   "metadata": {},
   "outputs": [
    {
     "data": {
      "text/html": [
       "<div>\n",
       "<style scoped>\n",
       "    .dataframe tbody tr th:only-of-type {\n",
       "        vertical-align: middle;\n",
       "    }\n",
       "\n",
       "    .dataframe tbody tr th {\n",
       "        vertical-align: top;\n",
       "    }\n",
       "\n",
       "    .dataframe thead th {\n",
       "        text-align: right;\n",
       "    }\n",
       "</style>\n",
       "<table border=\"1\" class=\"dataframe\">\n",
       "  <thead>\n",
       "    <tr style=\"text-align: right;\">\n",
       "      <th></th>\n",
       "      <th>index</th>\n",
       "      <th>CardNumber</th>\n",
       "    </tr>\n",
       "  </thead>\n",
       "  <tbody>\n",
       "    <tr>\n",
       "      <th>0</th>\n",
       "      <td>AlKJWI5D2uH7NeLY6MTWrcvvjHvzcZfa34ZrJE3/mWaQ7f...</td>\n",
       "      <td>20</td>\n",
       "    </tr>\n",
       "    <tr>\n",
       "      <th>1</th>\n",
       "      <td>QZ16NKI+IiLaKTYpLCPBw6T0jyu51nk6yfxidIuu1x+B/z...</td>\n",
       "      <td>8</td>\n",
       "    </tr>\n",
       "    <tr>\n",
       "      <th>2</th>\n",
       "      <td>4emVbMsaZC8EoJuZ3c/Ns+NGNVRlst6QeLOkAiGmarmwf8...</td>\n",
       "      <td>6</td>\n",
       "    </tr>\n",
       "    <tr>\n",
       "      <th>3</th>\n",
       "      <td>NPXCa/xTlqm/LnIGI4zmGMez4K7DCLb2sWSiK7DkhHoO5R...</td>\n",
       "      <td>4</td>\n",
       "    </tr>\n",
       "    <tr>\n",
       "      <th>4</th>\n",
       "      <td>Nw6brDs6hOQHm3iIiQpL/hEx/1eBCTwq6z9IBKh9Qk4w4y...</td>\n",
       "      <td>4</td>\n",
       "    </tr>\n",
       "    <tr>\n",
       "      <th>5</th>\n",
       "      <td>DuGbANX1iW8IWcKHehsG9viKAa8pDm8NIXnmdPj6rGK4DW...</td>\n",
       "      <td>3</td>\n",
       "    </tr>\n",
       "  </tbody>\n",
       "</table>\n",
       "</div>"
      ],
      "text/plain": [
       "                                               index  CardNumber\n",
       "0  AlKJWI5D2uH7NeLY6MTWrcvvjHvzcZfa34ZrJE3/mWaQ7f...          20\n",
       "1  QZ16NKI+IiLaKTYpLCPBw6T0jyu51nk6yfxidIuu1x+B/z...           8\n",
       "2  4emVbMsaZC8EoJuZ3c/Ns+NGNVRlst6QeLOkAiGmarmwf8...           6\n",
       "3  NPXCa/xTlqm/LnIGI4zmGMez4K7DCLb2sWSiK7DkhHoO5R...           4\n",
       "4  Nw6brDs6hOQHm3iIiQpL/hEx/1eBCTwq6z9IBKh9Qk4w4y...           4\n",
       "5  DuGbANX1iW8IWcKHehsG9viKAa8pDm8NIXnmdPj6rGK4DW...           3"
      ]
     },
     "execution_count": 21,
     "metadata": {},
     "output_type": "execute_result"
    }
   ],
   "source": [
    "result_df.rename"
   ]
  },
  {
   "cell_type": "code",
   "execution_count": 22,
   "id": "b92054bd",
   "metadata": {},
   "outputs": [],
   "source": [
    "TableName = 'Most_disputed_cards'\n",
    "column_dtype = {'Card_Number' : 'varcahar', 'Number_of_disputes' : 'integer'}"
   ]
  },
  {
   "cell_type": "code",
   "execution_count": 28,
   "id": "a7174053",
   "metadata": {},
   "outputs": [
    {
     "ename": "Exception",
     "evalue": "",
     "output_type": "error",
     "traceback": [
      "\u001b[1;31m---------------------------------------------------------------------------\u001b[0m",
      "\u001b[1;31mProgrammingError\u001b[0m                          Traceback (most recent call last)",
      "\u001b[1;32mC:\\Users\\KULDEE~1.GAV\\AppData\\Local\\Temp/ipykernel_8400/2789092545.py\u001b[0m in \u001b[0;36m<module>\u001b[1;34m\u001b[0m\n\u001b[0;32m      2\u001b[0m     \u001b[1;31m#conn.execute('DROP TABLE IF EXISTS Most_disputed_cards')\u001b[0m\u001b[1;33m\u001b[0m\u001b[1;33m\u001b[0m\u001b[0m\n\u001b[1;32m----> 3\u001b[1;33m     \u001b[0mconn\u001b[0m\u001b[1;33m.\u001b[0m\u001b[0mexecute\u001b[0m\u001b[1;33m(\u001b[0m\u001b[1;34m'CREATE TABLE Most_disputed_cards(Card_Number nvarcahar(100), Number_of_disputes integer)'\u001b[0m\u001b[1;33m)\u001b[0m\u001b[1;33m\u001b[0m\u001b[1;33m\u001b[0m\u001b[0m\n\u001b[0m\u001b[0;32m      4\u001b[0m     \u001b[0mconn\u001b[0m\u001b[1;33m.\u001b[0m\u001b[0mclose\u001b[0m\u001b[1;33m(\u001b[0m\u001b[1;33m)\u001b[0m\u001b[1;33m\u001b[0m\u001b[1;33m\u001b[0m\u001b[0m\n",
      "\u001b[1;31mProgrammingError\u001b[0m: ('42000', '[42000] [Microsoft][ODBC SQL Server Driver][SQL Server]Column, parameter, or variable #1: Cannot find data type nvarcahar. (2715) (SQLExecDirectW)')",
      "\nDuring handling of the above exception, another exception occurred:\n",
      "\u001b[1;31mException\u001b[0m                                 Traceback (most recent call last)",
      "\u001b[1;32mC:\\Users\\KULDEE~1.GAV\\AppData\\Local\\Temp/ipykernel_8400/2789092545.py\u001b[0m in \u001b[0;36m<module>\u001b[1;34m\u001b[0m\n\u001b[0;32m      4\u001b[0m     \u001b[0mconn\u001b[0m\u001b[1;33m.\u001b[0m\u001b[0mclose\u001b[0m\u001b[1;33m(\u001b[0m\u001b[1;33m)\u001b[0m\u001b[1;33m\u001b[0m\u001b[1;33m\u001b[0m\u001b[0m\n\u001b[0;32m      5\u001b[0m \u001b[1;32mexcept\u001b[0m\u001b[1;33m:\u001b[0m\u001b[1;33m\u001b[0m\u001b[1;33m\u001b[0m\u001b[0m\n\u001b[1;32m----> 6\u001b[1;33m     \u001b[1;32mraise\u001b[0m \u001b[0mException\u001b[0m\u001b[1;33m\u001b[0m\u001b[1;33m\u001b[0m\u001b[0m\n\u001b[0m",
      "\u001b[1;31mException\u001b[0m: "
     ]
    }
   ],
   "source": [
    "try:\n",
    "    #conn.execute('DROP TABLE IF EXISTS Most_disputed_cards')\n",
    "    conn.execute('CREATE TABLE Most_disputed_cards(Card_Number nvarcahar(100), Number_of_disputes integer)')\n",
    "    conn.close()\n",
    "except:\n",
    "    raise Exception"
   ]
  },
  {
   "cell_type": "code",
   "execution_count": null,
   "id": "4c165ac1",
   "metadata": {},
   "outputs": [],
   "source": []
  },
  {
   "cell_type": "code",
   "execution_count": null,
   "id": "16aa6b96",
   "metadata": {},
   "outputs": [],
   "source": []
  },
  {
   "cell_type": "code",
   "execution_count": null,
   "id": "8a41cbb0",
   "metadata": {},
   "outputs": [],
   "source": []
  },
  {
   "cell_type": "code",
   "execution_count": null,
   "id": "4670e971",
   "metadata": {},
   "outputs": [],
   "source": []
  },
  {
   "cell_type": "code",
   "execution_count": null,
   "id": "a3fe5318",
   "metadata": {},
   "outputs": [],
   "source": []
  },
  {
   "cell_type": "code",
   "execution_count": null,
   "id": "83ab2dd1",
   "metadata": {},
   "outputs": [],
   "source": []
  },
  {
   "cell_type": "code",
   "execution_count": 48,
   "id": "a0d19ddf",
   "metadata": {},
   "outputs": [],
   "source": [
    "for key, value in col_dtype.items():\n",
    "    if col_dtype[key] == 'float64':\n",
    "        col_dtype[key] = 'float'\n",
    "    elif col_dtype[key] == 'int64':\n",
    "        col_dtype[key] = 'Integer'\n",
    "    elif col_dtype[key] == 'O':\n",
    "        col_dtype[key] = 'varchar'\n",
    "    elif col_dtype[key] == '<M8[ns]':\n",
    "        col_dtype[key] = 'date'\n",
    "    else:\n",
    "        pass\n",
    "        \n",
    "    "
   ]
  },
  {
   "cell_type": "code",
   "execution_count": 49,
   "id": "22147f60",
   "metadata": {},
   "outputs": [
    {
     "data": {
      "text/plain": [
       "{'SuccessfulID': 'float',\n",
       " 'ClientID': 'Integer',\n",
       " 'ChannelID': 'Integer',\n",
       " 'ModeID': 'Integer',\n",
       " 'TerminalId': 'varchar',\n",
       " 'ReferenceNumber': 'Integer',\n",
       " 'CardNumber': 'varchar',\n",
       " 'CardType': 'float',\n",
       " 'TxnsValueDateTime': 'date',\n",
       " 'TxnsDateTime': 'date',\n",
       " 'TxnsAmount': 'Integer',\n",
       " 'ActualTxnsAmount': 'Integer',\n",
       " 'GLStatus': 'Integer',\n",
       " 'EJStatus': 'Integer',\n",
       " 'NWStatus': 'Integer',\n",
       " 'SWStatus': 'Integer',\n",
       " 'ReconType': 'varchar',\n",
       " 'CustAccountNo': 'varchar',\n",
       " 'ATMAccountNo': 'float',\n",
       " 'DrCrType': 'varchar',\n",
       " 'TxnsType': 'varchar',\n",
       " 'TxnsSubType': 'varchar',\n",
       " 'TxnsEntryType': 'varchar',\n",
       " 'TxnRemarks': 'varchar',\n",
       " 'IsSettled': 'Integer',\n",
       " 'OnSettled': 'date',\n",
       " 'SettledRemarks': 'varchar',\n",
       " 'SettledBy': 'varchar',\n",
       " 'Aging': 'float',\n",
       " 'IsRemoved': 'Integer',\n",
       " 'TxnsParticulars': 'varchar',\n",
       " 'CreatedBy': 'varchar',\n",
       " 'CreatedOn': 'date',\n",
       " 'ModifiedBy': 'varchar',\n",
       " 'ModifiedOn': 'date',\n",
       " 'Status': 'varchar',\n",
       " 'UnmatchedID': 'float',\n",
       " 'RapiRemarks': 'float',\n",
       " 'UnsuccessfulID': 'float'}"
      ]
     },
     "execution_count": 49,
     "metadata": {},
     "output_type": "execute_result"
    }
   ],
   "source": [
    "col_dtype"
   ]
  },
  {
   "cell_type": "code",
   "execution_count": 17,
   "id": "f23cd0f6",
   "metadata": {},
   "outputs": [
    {
     "data": {
      "text/plain": [
       "<pyodbc.Cursor at 0x22f0fe1c0b0>"
      ]
     },
     "execution_count": 17,
     "metadata": {},
     "output_type": "execute_result"
    }
   ],
   "source": [
    "conn.execute('DROP TABLE IF EXISTS good_data')\n"
   ]
  },
  {
   "cell_type": "code",
   "execution_count": 54,
   "id": "ea178cf9",
   "metadata": {},
   "outputs": [
    {
     "ename": "ProgrammingError",
     "evalue": "('42S01', \"[42S01] [Microsoft][ODBC SQL Server Driver][SQL Server]There is already an object named 'training' in the database. (2714) (SQLExecDirectW)\")",
     "output_type": "error",
     "traceback": [
      "\u001b[1;31m---------------------------------------------------------------------------\u001b[0m",
      "\u001b[1;31mProgrammingError\u001b[0m                          Traceback (most recent call last)",
      "\u001b[1;32mC:\\Users\\KULDEE~1.GAV\\AppData\\Local\\Temp/ipykernel_11260/2428262439.py\u001b[0m in \u001b[0;36m<module>\u001b[1;34m\u001b[0m\n\u001b[0;32m      2\u001b[0m     \u001b[0mdtype\u001b[0m \u001b[1;33m=\u001b[0m \u001b[0mcol_dtype\u001b[0m\u001b[1;33m[\u001b[0m\u001b[0mkey\u001b[0m\u001b[1;33m]\u001b[0m\u001b[1;33m\u001b[0m\u001b[1;33m\u001b[0m\u001b[0m\n\u001b[0;32m      3\u001b[0m     \u001b[1;31m#print(str(key), str(dtype))\u001b[0m\u001b[1;33m\u001b[0m\u001b[1;33m\u001b[0m\u001b[0m\n\u001b[1;32m----> 4\u001b[1;33m     \u001b[0mconn\u001b[0m\u001b[1;33m.\u001b[0m\u001b[0mexecute\u001b[0m\u001b[1;33m(\u001b[0m\u001b[1;34m'CREATE TABLE training ({column_name} {dataType})'\u001b[0m\u001b[1;33m.\u001b[0m\u001b[0mformat\u001b[0m\u001b[1;33m(\u001b[0m\u001b[0mcolumn_name\u001b[0m\u001b[1;33m=\u001b[0m\u001b[0mstr\u001b[0m\u001b[1;33m(\u001b[0m\u001b[0mkey\u001b[0m\u001b[1;33m)\u001b[0m\u001b[1;33m,\u001b[0m \u001b[0mdataType\u001b[0m\u001b[1;33m=\u001b[0m\u001b[0mstr\u001b[0m\u001b[1;33m(\u001b[0m\u001b[0mdtype\u001b[0m\u001b[1;33m)\u001b[0m\u001b[1;33m)\u001b[0m\u001b[1;33m)\u001b[0m\u001b[1;33m\u001b[0m\u001b[1;33m\u001b[0m\u001b[0m\n\u001b[0m",
      "\u001b[1;31mProgrammingError\u001b[0m: ('42S01', \"[42S01] [Microsoft][ODBC SQL Server Driver][SQL Server]There is already an object named 'training' in the database. (2714) (SQLExecDirectW)\")"
     ]
    }
   ],
   "source": [
    "for key in columns:\n",
    "    dtype = col_dtype[key]\n",
    "    #print(str(key), str(dtype))\n",
    "    conn.execute('CREATE TABLE training ({column_name} {dataType})'.format(column_name=str(key), dataType=str(dtype)))\n"
   ]
  },
  {
   "cell_type": "code",
   "execution_count": null,
   "id": "1f1031cb",
   "metadata": {},
   "outputs": [],
   "source": []
  }
 ],
 "metadata": {
  "kernelspec": {
   "display_name": "Python 3 (ipykernel)",
   "language": "python",
   "name": "python3"
  },
  "language_info": {
   "codemirror_mode": {
    "name": "ipython",
    "version": 3
   },
   "file_extension": ".py",
   "mimetype": "text/x-python",
   "name": "python",
   "nbconvert_exporter": "python",
   "pygments_lexer": "ipython3",
   "version": "3.9.7"
  }
 },
 "nbformat": 4,
 "nbformat_minor": 5
}
